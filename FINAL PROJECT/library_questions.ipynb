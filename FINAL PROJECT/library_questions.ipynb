{
 "cells": [
  {
   "cell_type": "markdown",
   "metadata": {},
   "source": [
    "## Objective: \n",
    "After working at the Biomedical Library at UCSD for almost a year, I have notices that most of the questions directed at the front desk tend to be the same questions. Most of the questions can be answered through the library website, however, they tend to be scattered throughout page. I decided to make a chatbot that answers those typically asked questions. \n",
    "\n",
    "## Project Description\n",
    "From the questions that are asked, there are three main categories: printing, study rooms, and library hours. The patron would first pick among which one of these their question falls under. From there they will be asked another question specifying what exactly their question is. Essentially this chatbot would assist the library staff in filtering out the basic, redundant queries from more important ones like help with research papers or database searches. "
   ]
  },
  {
   "cell_type": "code",
   "execution_count": null,
   "metadata": {},
   "outputs": [],
   "source": [
    "from my_module import functions as fn\n",
    "import string\n",
    "import random \n",
    "import nltk\n",
    "import test_functions"
   ]
  },
  {
   "cell_type": "code",
   "execution_count": null,
   "metadata": {},
   "outputs": [
    {
     "name": "stdout",
     "output_type": "stream",
     "text": [
      "Welcome to BLB! What do you have a question about? (enter the number)\n",
      "1. Printing\n",
      "2. Study rooms\n",
      "3. Hours\n",
      "\n"
     ]
    }
   ],
   "source": [
    "class library_questions(): \n",
    "    questions = True\n",
    "    print(\"Welcome to BLB! What do you have a question about? (enter the number)\")\n",
    "    while (questions == True):\n",
    "        print(\"1. Printing\")\n",
    "        print(\"2. Study rooms\")\n",
    "        print(\"3. Hours\\n\")\n",
    "        input_number = input()\n",
    "        \n",
    "        if input_number == '1':\n",
    "            print(\"\\nI need more information on:\\na. How to print\\nb. Wireless printing\\nc. Prices\\n\")\n",
    "            input_choice = input()\n",
    "            one = fn.printing_question(input_choice)\n",
    "            break\n",
    "            \n",
    "        elif input_number == '2':\n",
    "            print(\"\\nI need more information on:\")\n",
    "            print(\"a. How to book a room\")b. Walk-in rules\\n\")\n",
    "            input_choice = input()\n",
    "            two = fn.study_room(input_choice)\n",
    "            break\n",
    "            \n",
    "        elif input_number == '3':\n",
    "            print(\"\\nI am looking for:\")\n",
    "            print(\"a. Regular hours\")\n",
    "            print(\"b. Finals week hours\")\n",
    "            print(\"c. Winter break / intersession hours\\n\")\n",
    "            input_choice = input()\n",
    "            three = fn.library_hours(input_choice)\n",
    "            break"
   ]
  },
  {
   "cell_type": "code",
   "execution_count": null,
   "metadata": {},
   "outputs": [],
   "source": []
  }
 ],
 "metadata": {
  "kernelspec": {
   "display_name": "Python 3",
   "language": "python",
   "name": "python3"
  },
  "language_info": {
   "codemirror_mode": {
    "name": "ipython",
    "version": 3
   },
   "file_extension": ".py",
   "mimetype": "text/x-python",
   "name": "python",
   "nbconvert_exporter": "python",
   "pygments_lexer": "ipython3",
   "version": "3.6.7"
  }
 },
 "nbformat": 4,
 "nbformat_minor": 2
}
